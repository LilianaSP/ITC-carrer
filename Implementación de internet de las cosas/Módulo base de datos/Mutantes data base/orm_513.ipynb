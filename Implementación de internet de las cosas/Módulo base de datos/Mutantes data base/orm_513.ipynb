{
 "cells": [
  {
   "cell_type": "code",
   "execution_count": 25,
   "id": "63df5dfa",
   "metadata": {},
   "outputs": [],
   "source": [
    "from sqlalchemy import Column\n",
    "from sqlalchemy import ForeignKey\n",
    "from sqlalchemy import Integer\n",
    "from sqlalchemy import String\n",
    "from sqlalchemy.orm import declarative_base\n",
    "from sqlalchemy.orm import relationship"
   ]
  },
  {
   "cell_type": "code",
   "execution_count": 26,
   "id": "5478a70b",
   "metadata": {},
   "outputs": [],
   "source": [
    "Base = declarative_base()\n",
    "\n",
    "class Mutante(Base):\n",
    "    __tablename__ = \"mutante\"\n",
    "    idMutante = Column(Integer, primary_key=True)\n",
    "    nombre = Column(String(70))\n",
    "    tipo = Column(String(10))\n",
    "    poderes = relationship(\"Poder\", back_populates=\"mutante\",\n",
    "                           cascade=\"all,delete-orphan\")\n",
    "    \n",
    "    def __repr__(self):\n",
    "        return f\"Mutante: id={self.idMutante!r}, nombre={self.nombre!r}), tipo={self.tipo!r}\"\n",
    "    \n",
    "class Poder(Base):\n",
    "    __tablename__ = \"Poder\"\n",
    "    idPoder = Column(Integer, primary_key=True)\n",
    "    descripcion = Column(String(200), nullable=False)\n",
    "    idmutante = Column(Integer, ForeignKey(\"mutante.idMutante\"), nullable = False)\n",
    "    mutante = relationship(\"Mutante\", back_populates=\"poderes\")\n",
    "    \n",
    "    def __repr__(self):\n",
    "        return f\"Poder(id={self.idPoder!r}, descripcion={self.descripcion!r})\""
   ]
  },
  {
   "cell_type": "code",
   "execution_count": 27,
   "id": "0da20bd0",
   "metadata": {},
   "outputs": [],
   "source": [
    "from sqlalchemy import create_engine\n",
    "\n",
    "engine = create_engine(\"mysql+pymysql://root:@localhost/mutantes123?charset=utf8mb4\", echo=True)"
   ]
  },
  {
   "cell_type": "code",
   "execution_count": 28,
   "id": "2bfc9c89",
   "metadata": {},
   "outputs": [
    {
     "name": "stdout",
     "output_type": "stream",
     "text": [
      "2022-10-21 08:27:09,822 INFO sqlalchemy.engine.Engine SELECT DATABASE()\n",
      "2022-10-21 08:27:09,822 INFO sqlalchemy.engine.Engine [raw sql] {}\n",
      "2022-10-21 08:27:09,825 INFO sqlalchemy.engine.Engine SELECT @@sql_mode\n",
      "2022-10-21 08:27:09,826 INFO sqlalchemy.engine.Engine [raw sql] {}\n",
      "2022-10-21 08:27:09,828 INFO sqlalchemy.engine.Engine SELECT @@lower_case_table_names\n",
      "2022-10-21 08:27:09,830 INFO sqlalchemy.engine.Engine [raw sql] {}\n",
      "2022-10-21 08:27:09,833 INFO sqlalchemy.engine.Engine BEGIN (implicit)\n",
      "2022-10-21 08:27:09,834 INFO sqlalchemy.engine.Engine SELECT COUNT(*) FROM information_schema.tables WHERE table_schema = %(table_schema)s AND table_name = %(table_name)s\n",
      "2022-10-21 08:27:09,835 INFO sqlalchemy.engine.Engine [generated in 0.00092s] {'table_schema': 'mutantes123', 'table_name': 'mutante'}\n",
      "2022-10-21 08:27:09,882 INFO sqlalchemy.engine.Engine SELECT COUNT(*) FROM information_schema.tables WHERE table_schema = %(table_schema)s AND table_name = %(table_name)s\n",
      "2022-10-21 08:27:09,883 INFO sqlalchemy.engine.Engine [cached since 0.04934s ago] {'table_schema': 'mutantes123', 'table_name': 'Poder'}\n",
      "2022-10-21 08:27:09,886 INFO sqlalchemy.engine.Engine COMMIT\n"
     ]
    }
   ],
   "source": [
    "# Crear la base de datos.\n",
    "Base.metadata.create_all(engine)"
   ]
  },
  {
   "cell_type": "code",
   "execution_count": 38,
   "id": "d340b6fb",
   "metadata": {},
   "outputs": [
    {
     "name": "stdout",
     "output_type": "stream",
     "text": [
      "2022-10-21 08:43:31,843 INFO sqlalchemy.engine.Engine BEGIN (implicit)\n",
      "2022-10-21 08:43:31,845 INFO sqlalchemy.engine.Engine INSERT INTO mutante (nombre, tipo) VALUES (%(nombre)s, %(tipo)s)\n",
      "2022-10-21 08:43:31,847 INFO sqlalchemy.engine.Engine [cached since 981.9s ago] {'nombre': 'Iceman', 'tipo': ' BUENO'}\n",
      "2022-10-21 08:43:31,849 INFO sqlalchemy.engine.Engine INSERT INTO mutante (nombre, tipo) VALUES (%(nombre)s, %(tipo)s)\n",
      "2022-10-21 08:43:31,850 INFO sqlalchemy.engine.Engine [cached since 981.9s ago] {'nombre': 'Astroboy', 'tipo': ' BUENO'}\n",
      "2022-10-21 08:43:31,852 INFO sqlalchemy.engine.Engine INSERT INTO `Poder` (descripcion, idmutante) VALUES (%(descripcion)s, %(idmutante)s)\n",
      "2022-10-21 08:43:31,853 INFO sqlalchemy.engine.Engine [cached since 981.9s ago] {'descripcion': 'Congelar objetos', 'idmutante': 7}\n",
      "2022-10-21 08:43:31,855 INFO sqlalchemy.engine.Engine INSERT INTO `Poder` (descripcion, idmutante) VALUES (%(descripcion)s, %(idmutante)s)\n",
      "2022-10-21 08:43:31,855 INFO sqlalchemy.engine.Engine [cached since 981.9s ago] {'descripcion': 'Volar', 'idmutante': 8}\n",
      "2022-10-21 08:43:31,857 INFO sqlalchemy.engine.Engine INSERT INTO `Poder` (descripcion, idmutante) VALUES (%(descripcion)s, %(idmutante)s)\n",
      "2022-10-21 08:43:31,858 INFO sqlalchemy.engine.Engine [cached since 981.9s ago] {'descripcion': 'Lazer', 'idmutante': 8}\n",
      "2022-10-21 08:43:31,859 INFO sqlalchemy.engine.Engine COMMIT\n"
     ]
    }
   ],
   "source": [
    "#insertar registros\n",
    "\n",
    "from sqlalchemy.orm import Session\n",
    "\n",
    "with Session(engine) as session:\n",
    "    #creamos nuestros mutantes \n",
    "    iceman = Mutante(nombre=\"Iceman\", tipo=\" BUENO\", poderes = [Poder(descripcion=\"Congelar objetos\")])\n",
    "    astroboy = Mutante(nombre=\"Astroboy\", tipo=\" BUENO\", poderes = [Poder(descripcion=\"Volar\"), Poder(descripcion=\"Lazer\")])\n",
    "\n",
    "    #agregamos los mutantes a la sesion\n",
    "    session.add_all([iceman, astroboy])\n",
    "\n",
    "    #commit\n",
    "    session.commit()"
   ]
  },
  {
   "cell_type": "code",
   "execution_count": 30,
   "id": "3b35ac80",
   "metadata": {},
   "outputs": [
    {
     "name": "stdout",
     "output_type": "stream",
     "text": [
      "2022-10-21 08:27:10,001 INFO sqlalchemy.engine.Engine BEGIN (implicit)\n",
      "2022-10-21 08:27:10,005 INFO sqlalchemy.engine.Engine SELECT mutante.`idMutante`, mutante.nombre, mutante.tipo \n",
      "FROM mutante \n",
      "WHERE mutante.nombre IN (%(nombre_1_1)s, %(nombre_1_2)s)\n",
      "2022-10-21 08:27:10,006 INFO sqlalchemy.engine.Engine [generated in 0.00152s] {'nombre_1_1': 'Iceman', 'nombre_1_2': 'Astroboy'}\n",
      "(Mutante: id=1, nombre='Iceman'), tipo=' BUENO',)\n",
      "(Mutante: id=2, nombre='Astroboy'), tipo=' BUENO',)\n",
      "(Mutante: id=3, nombre='Iceman'), tipo=' BUENO',)\n",
      "(Mutante: id=4, nombre='Astroboy'), tipo=' BUENO',)\n",
      "(Mutante: id=5, nombre='Iceman'), tipo=' BUENO',)\n",
      "(Mutante: id=6, nombre='Astroboy'), tipo=' BUENO',)\n"
     ]
    }
   ],
   "source": [
    "#Seleccionar datos\n",
    "from sqlalchemy import select\n",
    "\n",
    "session = Session(engine)\n",
    "\n",
    "stmt = select(Mutante).where(Mutante.nombre.in_([\"Iceman\", \"Astroboy\"]))\n",
    "\n",
    "for user in session.execute(stmt):\n",
    "    print(user)"
   ]
  },
  {
   "cell_type": "code",
   "execution_count": 31,
   "id": "2f812ccc",
   "metadata": {},
   "outputs": [
    {
     "name": "stdout",
     "output_type": "stream",
     "text": [
      "2022-10-21 08:27:10,052 INFO sqlalchemy.engine.Engine SELECT `Poder`.`idPoder`, `Poder`.descripcion, `Poder`.idmutante \n",
      "FROM `Poder` INNER JOIN mutante ON mutante.`idMutante` = `Poder`.idmutante \n",
      "WHERE mutante.nombre = %(nombre_1)s\n",
      "2022-10-21 08:27:10,054 INFO sqlalchemy.engine.Engine [generated in 0.00185s] {'nombre_1': 'Astroboy'}\n"
     ]
    },
    {
     "data": {
      "text/plain": [
       "[Poder(id=2, descripcion='Volar'),\n",
       " Poder(id=3, descripcion='Lazer'),\n",
       " Poder(id=5, descripcion='Volar'),\n",
       " Poder(id=6, descripcion='Lazer'),\n",
       " Poder(id=8, descripcion='Volar'),\n",
       " Poder(id=9, descripcion='Lazer')]"
      ]
     },
     "execution_count": 31,
     "metadata": {},
     "output_type": "execute_result"
    }
   ],
   "source": [
    "#Seleccionar datos de dos tablas\n",
    "\n",
    "stmt = (select(Poder).join(Poder.mutante).where(Mutante.nombre == \"Astroboy\"))\n",
    "\n",
    "astroboy_powers = session.execute(stmt).scalars().all()\n",
    "\n",
    "astroboy_powers\n",
    "\n"
   ]
  },
  {
   "cell_type": "code",
   "execution_count": 32,
   "id": "237208fb",
   "metadata": {},
   "outputs": [
    {
     "name": "stdout",
     "output_type": "stream",
     "text": [
      "2022-10-21 08:27:10,206 INFO sqlalchemy.engine.Engine UPDATE `Poder` SET descripcion=%(descripcion)s WHERE `Poder`.`idPoder` = %(Poder_idPoder)s\n",
      "2022-10-21 08:27:10,210 INFO sqlalchemy.engine.Engine [generated in 0.00385s] {'descripcion': 'Laser', 'Poder_idPoder': 3}\n",
      "2022-10-21 08:27:10,253 INFO sqlalchemy.engine.Engine COMMIT\n"
     ]
    }
   ],
   "source": [
    "#modificar datos\n",
    "\n",
    "astroboy_powers[1].descripcion = \"Laser\"\n",
    "session.commit()\n"
   ]
  },
  {
   "cell_type": "code",
   "execution_count": 37,
   "id": "6081d397",
   "metadata": {},
   "outputs": [
    {
     "name": "stdout",
     "output_type": "stream",
     "text": [
      "2022-10-21 08:28:30,746 INFO sqlalchemy.engine.Engine BEGIN (implicit)\n",
      "2022-10-21 08:28:30,749 INFO sqlalchemy.engine.Engine DELETE FROM `Poder` WHERE `Poder`.`idPoder` = %(idPoder)s\n",
      "2022-10-21 08:28:30,749 INFO sqlalchemy.engine.Engine [cached since 28.98s ago] {'idPoder': 2}\n",
      "2022-10-21 08:28:30,751 INFO sqlalchemy.engine.Engine COMMIT\n"
     ]
    },
    {
     "name": "stderr",
     "output_type": "stream",
     "text": [
      "/var/folders/_x/5t3wtggd6n991cckzsst5wh40000gn/T/ipykernel_91666/1209737355.py:4: SAWarning: DELETE statement on table 'Poder' expected to delete 1 row(s); 0 were matched.  Please set confirm_deleted_rows=False within the mapper configuration to prevent this warning.\n",
      "  session.commit()\n"
     ]
    }
   ],
   "source": [
    "#Borrar datos\n",
    "\n",
    "session.delete(astroboy_powers[0])  \n",
    "session.commit()"
   ]
  }
 ],
 "metadata": {
  "kernelspec": {
   "display_name": "Python 3.10.4 64-bit",
   "language": "python",
   "name": "python3"
  },
  "language_info": {
   "codemirror_mode": {
    "name": "ipython",
    "version": 3
   },
   "file_extension": ".py",
   "mimetype": "text/x-python",
   "name": "python",
   "nbconvert_exporter": "python",
   "pygments_lexer": "ipython3",
   "version": "3.10.4"
  },
  "vscode": {
   "interpreter": {
    "hash": "98590ff4fe04c8543246b2a01debd3de3c5ca9b666f43f1fa87d5110c692004c"
   }
  }
 },
 "nbformat": 4,
 "nbformat_minor": 5
}
